{
 "cells": [
  {
   "cell_type": "code",
   "execution_count": null,
   "id": "65399d62",
   "metadata": {},
   "outputs": [],
   "source": [
    "import pandas as pd"
   ]
  },
  {
   "cell_type": "code",
   "execution_count": null,
   "id": "71a04293",
   "metadata": {},
   "outputs": [],
   "source": [
    "def get_bars():\n",
    "    bars = pd.read_csv('Data/bars1/20211207.csv')\n",
    "    for n in range(40, len(bars)):\n",
    "        yield bars.iloc[n-4:n].to_dict('records')"
   ]
  },
  {
   "cell_type": "code",
   "execution_count": null,
   "id": "efeeb30a",
   "metadata": {
    "scrolled": false
   },
   "outputs": [],
   "source": [
    "for i,x in enumerate(get_bars()):\n",
    "    print(x[-1])\n",
    "    if i == 1 : break\n"
   ]
  },
  {
   "cell_type": "code",
   "execution_count": null,
   "id": "d620c7d0",
   "metadata": {},
   "outputs": [],
   "source": []
  },
  {
   "cell_type": "code",
   "execution_count": null,
   "id": "6d93d0e9",
   "metadata": {},
   "outputs": [],
   "source": []
  }
 ],
 "metadata": {
  "kernelspec": {
   "display_name": "Python 3 (ipykernel)",
   "language": "python",
   "name": "python3"
  },
  "language_info": {
   "codemirror_mode": {
    "name": "ipython",
    "version": 3
   },
   "file_extension": ".py",
   "mimetype": "text/x-python",
   "name": "python",
   "nbconvert_exporter": "python",
   "pygments_lexer": "ipython3",
   "version": "3.9.9"
  }
 },
 "nbformat": 4,
 "nbformat_minor": 5
}
