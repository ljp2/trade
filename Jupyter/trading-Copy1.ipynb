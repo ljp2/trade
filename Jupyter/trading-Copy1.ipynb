{
 "cells": [
  {
   "cell_type": "code",
   "execution_count": 1,
   "id": "44cc256a",
   "metadata": {},
   "outputs": [],
   "source": [
    "import numpy as np\n",
    "import pandas as pd\n",
    "import requests\n",
    "import urllib3\n",
    "import json\n",
    "import time\n",
    "from datetime import datetime, timedelta"
   ]
  },
  {
   "cell_type": "code",
   "execution_count": 2,
   "id": "bb06cf95",
   "metadata": {},
   "outputs": [],
   "source": [
    "urllib3.disable_warnings()\n",
    "\n",
    "def get(url, params=None):\n",
    "    return requests.get(url, params=params, verify=False).json()\n",
    "\n",
    "def post(url, data=None):\n",
    "    return requests.post(url, data, verify=False)\n",
    "\n",
    "def validate():\n",
    "    return post(\"https://localhost:5000/v1/api/sso/validate\")\n",
    "\n",
    "def status():\n",
    "    return post(\"https://localhost:5000/v1/api/iserver/auth/status\")\n",
    "\n",
    "def reauthenticate():\n",
    "    return post(\"https://localhost:5000/v1/api/iserver/reauthenticate\")\n",
    "\n",
    "def logout():\n",
    "    return post(\"https://localhost:5000/v1/api/logout\")"
   ]
  },
  {
   "cell_type": "code",
   "execution_count": 3,
   "id": "b87b5c40",
   "metadata": {},
   "outputs": [],
   "source": [
    "def wait_for_next_minute(minutes=1, seconds=0):\n",
    "    current_time = datetime.now()\n",
    "    print(\"current_time\", current_time)\n",
    "    new_time = current_time.replace(second=0, microsecond=0)\n",
    "    print(\"new_time\", new_time)\n",
    "    uptime = new_time + timedelta(minutes=1, seconds=5)\n",
    "    print(\"uptime\", uptime)\n",
    "    delay = uptime - current_time\n",
    "    print(\"delay\", delay)\n",
    "    time.sleep(delay.total_seconds())"
   ]
  },
  {
   "cell_type": "code",
   "execution_count": 4,
   "id": "77bb4594",
   "metadata": {},
   "outputs": [],
   "source": [
    "SPY = 756733\n",
    "\n",
    "def _get_bars(conid, period, bar, outsideRth=False):   \n",
    "    payload = {\"conid\" : conid, \"period\" : period, \"bar\" : bar, \"outsideRth\":outsideRth}\n",
    "    r = get(\"https://localhost:5000/v1/api/iserver/marketdata/history\", params=payload)\n",
    "    return r['data']\n",
    "\n",
    "def get_bars(conid, period, bar, outsideRth=False):\n",
    "    bars = _get_bars(conid, period, bar, outsideRth)\n",
    "    return bars\n"
   ]
  },
  {
   "cell_type": "code",
   "execution_count": 5,
   "id": "0afa733f",
   "metadata": {
    "scrolled": true
   },
   "outputs": [
    {
     "data": {
      "text/plain": [
       "datetime.datetime(2022, 1, 1, 12, 49, 3, 26188)"
      ]
     },
     "execution_count": 5,
     "metadata": {},
     "output_type": "execute_result"
    }
   ],
   "source": [
    "datetime.now()"
   ]
  },
  {
   "cell_type": "code",
   "execution_count": 6,
   "id": "57b17273",
   "metadata": {},
   "outputs": [
    {
     "data": {
      "text/plain": [
       "[{'o': 475.25,\n",
       "  'c': 475.32,\n",
       "  'h': 475.32,\n",
       "  'l': 475.25,\n",
       "  'v': 14,\n",
       "  't': 1640998740000}]"
      ]
     },
     "execution_count": 6,
     "metadata": {},
     "output_type": "execute_result"
    }
   ],
   "source": [
    "get_bars(SPY, \"1min\", \"1min\", True)"
   ]
  },
  {
   "cell_type": "code",
   "execution_count": null,
   "id": "8529271c",
   "metadata": {},
   "outputs": [],
   "source": []
  },
  {
   "cell_type": "code",
   "execution_count": null,
   "id": "723555ed",
   "metadata": {},
   "outputs": [],
   "source": []
  },
  {
   "cell_type": "code",
   "execution_count": null,
   "id": "176f79d4",
   "metadata": {},
   "outputs": [],
   "source": []
  },
  {
   "cell_type": "code",
   "execution_count": null,
   "id": "8df43c10",
   "metadata": {},
   "outputs": [],
   "source": [
    "conid = SPY\n",
    "period = \"3min\"\n",
    "bar = \"1min\"\n",
    "outsideRth = False \n",
    "wait_for_next_minute()\n",
    "for n in range(14):\n",
    "    print()\n",
    "    print(datetime.now())\n",
    "    bars = get_bars(conid, period, bar, outsideRth)\n",
    "    for i,x in enumerate(bars):\n",
    "        print(i,x)\n",
    "    print(datetime.fromtimestamp(bars[-1]['t'] // 1000))\n",
    "    time.sleep(5)\n",
    "          "
   ]
  },
  {
   "cell_type": "code",
   "execution_count": null,
   "id": "89ef36c3",
   "metadata": {},
   "outputs": [],
   "source": [
    "bars[-1]['t'] // 1000\n",
    "    "
   ]
  },
  {
   "cell_type": "code",
   "execution_count": null,
   "id": "f4b8f618",
   "metadata": {},
   "outputs": [],
   "source": [
    "get_bars(SPY, \"3min\", \"1min\", False)"
   ]
  },
  {
   "cell_type": "code",
   "execution_count": null,
   "id": "346a5da4",
   "metadata": {},
   "outputs": [],
   "source": []
  }
 ],
 "metadata": {
  "kernelspec": {
   "display_name": "Python 3 (ipykernel)",
   "language": "python",
   "name": "python3"
  },
  "language_info": {
   "codemirror_mode": {
    "name": "ipython",
    "version": 3
   },
   "file_extension": ".py",
   "mimetype": "text/x-python",
   "name": "python",
   "nbconvert_exporter": "python",
   "pygments_lexer": "ipython3",
   "version": "3.9.9"
  }
 },
 "nbformat": 4,
 "nbformat_minor": 5
}
