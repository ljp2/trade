{
 "cells": [
  {
   "cell_type": "code",
   "execution_count": 1,
   "id": "44cc256a",
   "metadata": {},
   "outputs": [],
   "source": [
    "import numpy as np\n",
    "import pandas as pd\n",
    "import requests\n",
    "import urllib3\n",
    "import json\n",
    "import time\n",
    "from datetime import datetime, timedelta"
   ]
  },
  {
   "cell_type": "code",
   "execution_count": 2,
   "id": "306104db",
   "metadata": {},
   "outputs": [],
   "source": [
    "SPY = 756733"
   ]
  },
  {
   "cell_type": "code",
   "execution_count": 3,
   "id": "bb06cf95",
   "metadata": {},
   "outputs": [],
   "source": [
    "urllib3.disable_warnings()\n",
    "\n",
    "def get(url, params=None):\n",
    "    return requests.get(url, params=params, verify=False).json()\n",
    "\n",
    "def post(url, data=None):\n",
    "    return requests.post(url, data, verify=False)\n",
    "\n",
    "def validate():\n",
    "    return post(\"https://localhost:5000/v1/api/sso/validate\")\n",
    "\n",
    "def status():\n",
    "    return post(\"https://localhost:5000/v1/api/iserver/auth/status\")\n",
    "\n",
    "def reauthenticate():\n",
    "    return post(\"https://localhost:5000/v1/api/iserver/reauthenticate\")\n",
    "\n",
    "def logout():\n",
    "    return post(\"https://localhost:5000/v1/api/logout\")"
   ]
  },
  {
   "cell_type": "code",
   "execution_count": null,
   "id": "86059a49",
   "metadata": {},
   "outputs": [],
   "source": []
  },
  {
   "cell_type": "code",
   "execution_count": 4,
   "id": "b87b5c40",
   "metadata": {},
   "outputs": [],
   "source": [
    "def wait_after_next_minute(minutes=1, seconds=0):\n",
    "    current_time = datetime.now()\n",
    "    new_time = current_time.replace(second=0, microsecond=0)\n",
    "    uptime = new_time + timedelta(minutes=1, seconds=5)\n",
    "    delay = uptime - current_time\n",
    "    time.sleep(delay.total_seconds())"
   ]
  },
  {
   "cell_type": "code",
   "execution_count": 5,
   "id": "ebec6c29",
   "metadata": {},
   "outputs": [],
   "source": [
    "def get_bars(conid, period, bar, outsideRth=False):\n",
    "    payload = {\"conid\" : conid, \"period\" : period, \"bar\" : bar, \"outsideRth\":outsideRth}\n",
    "    r = get(\"https://localhost:5000/v1/api/iserver/marketdata/history\", params=payload)\n",
    "    bars = r['data']\n",
    "    return bars\n",
    "\n",
    "def get_dataframe_bars(conid, period, bar, outsideRth=False):\n",
    "    bars = get_bars(conid, period, bar, outsideRth)\n",
    "    df = pd.DataFrame(bars)\n",
    "    df.set_index('t', inplace=True)\n",
    "    return df\n",
    "    \n",
    "                    "
   ]
  },
  {
   "cell_type": "code",
   "execution_count": 6,
   "id": "bd14f36d",
   "metadata": {},
   "outputs": [
    {
     "data": {
      "text/plain": [
       "[{'o': 474.9,\n",
       "  'c': 474.88,\n",
       "  'h': 475.01,\n",
       "  'l': 474.67,\n",
       "  'v': 27253,\n",
       "  't': 1640984340000}]"
      ]
     },
     "execution_count": 6,
     "metadata": {},
     "output_type": "execute_result"
    }
   ],
   "source": [
    "get_bars(SPY, '1min', '1min')"
   ]
  },
  {
   "cell_type": "code",
   "execution_count": 11,
   "id": "dc3d4731",
   "metadata": {},
   "outputs": [
    {
     "ename": "TypeError",
     "evalue": "an integer is required (got type datetime.datetime)",
     "output_type": "error",
     "traceback": [
      "\u001b[0;31m---------------------------------------------------------------------------\u001b[0m",
      "\u001b[0;31mTypeError\u001b[0m                                 Traceback (most recent call last)",
      "\u001b[0;32m/var/folders/51/lf0cn2vn5csgxq64rtb62fh00000gn/T/ipykernel_1209/3025336295.py\u001b[0m in \u001b[0;36m<module>\u001b[0;34m\u001b[0m\n\u001b[0;32m----> 1\u001b[0;31m \u001b[0mdatetime\u001b[0m\u001b[0;34m.\u001b[0m\u001b[0mfromtimestamp\u001b[0m\u001b[0;34m(\u001b[0m\u001b[0mdatetime\u001b[0m\u001b[0;34m.\u001b[0m\u001b[0mutcnow\u001b[0m\u001b[0;34m(\u001b[0m\u001b[0;34m)\u001b[0m\u001b[0;34m)\u001b[0m\u001b[0;34m\u001b[0m\u001b[0;34m\u001b[0m\u001b[0m\n\u001b[0m",
      "\u001b[0;31mTypeError\u001b[0m: an integer is required (got type datetime.datetime)"
     ]
    }
   ],
   "source": []
  },
  {
   "cell_type": "code",
   "execution_count": 8,
   "id": "973a8762",
   "metadata": {},
   "outputs": [
    {
     "data": {
      "text/plain": [
       "datetime.datetime(2022, 1, 2, 10, 18, 15, 193875)"
      ]
     },
     "execution_count": 8,
     "metadata": {},
     "output_type": "execute_result"
    }
   ],
   "source": [
    "datetime.utcnow()"
   ]
  },
  {
   "cell_type": "code",
   "execution_count": 12,
   "id": "027efeae",
   "metadata": {},
   "outputs": [
    {
     "data": {
      "text/plain": [
       "{'authenticated': True,\n",
       " 'competing': False,\n",
       " 'connected': True,\n",
       " 'message': '',\n",
       " 'MAC': 'F4:03:43:DC:90:80',\n",
       " 'fail': ''}"
      ]
     },
     "execution_count": 12,
     "metadata": {},
     "output_type": "execute_result"
    }
   ],
   "source": [
    "status().json()"
   ]
  },
  {
   "cell_type": "code",
   "execution_count": null,
   "id": "dda358e3",
   "metadata": {},
   "outputs": [],
   "source": [
    "wait_after_next_minute()\n",
    "bars = get_bars(SPY, '10min', '1min')\n",
    "bars.pop()"
   ]
  },
  {
   "cell_type": "code",
   "execution_count": null,
   "id": "0af8554e",
   "metadata": {},
   "outputs": [],
   "source": [
    "for i in range(5):\n",
    "    wait_after_next_minute()\n",
    "    b = get_bars(SPY, '1min', '1min')\n",
    "    print()\n",
    "    for i,x in enumerate(b):\n",
    "        print(i,x)\n",
    "    bars.append(b[0])"
   ]
  },
  {
   "cell_type": "code",
   "execution_count": null,
   "id": "915455c0",
   "metadata": {},
   "outputs": [],
   "source": [
    "df = pd.DataFrame(bars)\n",
    "df"
   ]
  },
  {
   "cell_type": "code",
   "execution_count": null,
   "id": "89ef36c3",
   "metadata": {},
   "outputs": [],
   "source": []
  }
 ],
 "metadata": {
  "kernelspec": {
   "display_name": "Python 3 (ipykernel)",
   "language": "python",
   "name": "python3"
  },
  "language_info": {
   "codemirror_mode": {
    "name": "ipython",
    "version": 3
   },
   "file_extension": ".py",
   "mimetype": "text/x-python",
   "name": "python",
   "nbconvert_exporter": "python",
   "pygments_lexer": "ipython3",
   "version": "3.9.9"
  }
 },
 "nbformat": 4,
 "nbformat_minor": 5
}
